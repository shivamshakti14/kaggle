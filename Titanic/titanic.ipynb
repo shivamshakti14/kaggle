{
 "metadata": {
  "name": ""
 },
 "nbformat": 3,
 "nbformat_minor": 0,
 "worksheets": [
  {
   "cells": [
    {
     "cell_type": "code",
     "collapsed": false,
     "input": [
      "import pandas as pd\n",
      "import numpy as np\n",
      "train = pd.read_csv('train.csv')\n",
      "#print train\n",
      "test = pd.read_csv('test.csv')\n",
      "#print test\n",
      "#print train.describe\n",
      "#print train.shape\n",
      "#print test.describe()\n",
      "#print test.shape\n",
      "#print train['Survived'].value_counts() # value_counts(normalize=true) for proportions\n",
      "#print train['Survived'][train['Sex']=='male'].value_counts()\n",
      "#print train['Survived'][train['Sex']=='female'].value_counts()\n",
      "train['Child']=float('NaN')\n",
      "train['Child'][train['Age']<18]=1\n",
      "train['Child'][train['Age']>=18]=0\n",
      "train['Age'] = train['Age'].fillna(train['Age'].median())  ## fill the missing values\n",
      "test['Age'] = test['Age'].fillna(test['Age'].median())\n",
      "#print train['Child']\n",
      "from sklearn import tree\n",
      "train['Sex'][train['Sex']=='male']=0\n",
      "train['Sex'][train['Sex']=='female']=1\n",
      "train['Embarked'][train['Embarked']=='S']=0\n",
      "train['Embarked'][train['Embarked']=='C']=1\n",
      "train['Embarked'][train['Embarked']=='Q']=2\n",
      "\n",
      "\n",
      "test['Sex'][test['Sex']=='male']=0\n",
      "test['Sex'][test['Sex']=='female']=1\n",
      "test['Embarked'][test['Embarked']=='S']=0\n",
      "test['Embarked'][test['Embarked']=='C']=1\n",
      "test['Embarked'][test['Embarked']=='Q']=2\n",
      "\n",
      "target = train['Survived'].values\n",
      "\n",
      "features_one = train[['Pclass','Age','Sex','Fare']].values\n",
      "my_tree_one = tree.DecisionTreeClassifier()\n",
      "my_tree_one = my_tree_one.fit(features_one, target)\n",
      "print my_tree_one.feature_importances_    # more value more important\n",
      "print my_tree_one.score(features_one, target)\n",
      "\n",
      "\n",
      "test['Fare'] = test['Fare'].fillna(test['Fare'].median())\n",
      "test_features = test[['Pclass','Age','Sex','Fare']].values\n",
      "myprediction = my_tree_one.predict(test_features)\n",
      "#print myprediction\n",
      "PassengerId = np.array(test['PassengerId']).astype(int)\n",
      "my_solution = pd.DataFrame(myprediction, PassengerId, columns= ['Survived'])\n",
      "#print my_solution\n",
      "#print my_solution.shape\n",
      "my_solution.to_csv(\"my_solution_one.csv\", index_label = [\"PassengerId\"])\n",
      "\n",
      "## Overfitting and control\n",
      "train['Embarked'] = train['Embarked'].fillna(train['Embarked'].median())\n",
      "#train['Child'] = train['Child'].fillna(train['Child'].median())\n",
      "features_two = train[[\"Pclass\",\"Age\",\"Sex\",\"Fare\", 'SibSp', 'Parch', 'Embarked']].values\n",
      "\n",
      "my_tree_two = tree.DecisionTreeClassifier(max_depth= 10,min_samples_split=5, random_state=1)\n",
      "my_tree_two = my_tree_two.fit(features_two, target)\n",
      "print my_tree_two.feature_importances_\n",
      "print my_tree_two.score(features_two, target)\n",
      "\n",
      "\n",
      "## Random Forest\n",
      "from sklearn.ensemble import RandomForestClassifier\n",
      "features_forest = train[[\"Pclass\",\"Age\",\"Sex\",\"Fare\", 'SibSp', 'Parch', 'Embarked']].values\n",
      "forest = RandomForestClassifier(max_depth = 10, min_samples_split=2, n_estimators=100, random_state=1)\n",
      "my_forest = forest.fit(features_forest, target)\n",
      "\n",
      "test_features = test[[\"Pclass\", \"Age\", \"Sex\", \"Fare\", \"SibSp\", \"Parch\", \"Embarked\"]].values\n",
      "predict_forest = my_forest.predict(test_features)\n",
      "#print len(predict_forest)\n",
      "print my_forest.feature_importances_\n",
      "print my_forest.score(features_forest, target)"
     ],
     "language": "python",
     "metadata": {},
     "outputs": [
      {
       "output_type": "stream",
       "stream": "stdout",
       "text": [
        "[ 0.11980215  0.21779266  0.31274009  0.3496651 ]\n",
        "0.977553310887\n",
        "[ 0.14122988  0.17562521  0.41595323  0.17305955  0.05538552  0.02698011\n",
        "  0.0117665 ]\n",
        "0.905723905724\n",
        "[ 0.0977666   0.20886042  0.31305019  0.24706244  0.05588965  0.04160538\n",
        "  0.03576533]"
       ]
      },
      {
       "output_type": "stream",
       "stream": "stdout",
       "text": [
        "\n",
        "0.937149270483\n"
       ]
      }
     ],
     "prompt_number": 61
    },
    {
     "cell_type": "code",
     "collapsed": false,
     "input": [],
     "language": "python",
     "metadata": {},
     "outputs": [],
     "prompt_number": 48
    },
    {
     "cell_type": "code",
     "collapsed": false,
     "input": [],
     "language": "python",
     "metadata": {},
     "outputs": [],
     "prompt_number": 48
    },
    {
     "cell_type": "code",
     "collapsed": false,
     "input": [],
     "language": "python",
     "metadata": {},
     "outputs": []
    }
   ],
   "metadata": {}
  }
 ]
}