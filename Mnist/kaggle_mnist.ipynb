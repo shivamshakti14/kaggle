{
 "metadata": {
  "name": "",
  "signature": "sha256:a34fe017b13be24e13c004287f8d663fae4c25cb0dd70b5e1db2232cfe0d5205"
 },
 "nbformat": 3,
 "nbformat_minor": 0,
 "worksheets": [
  {
   "cells": [
    {
     "cell_type": "heading",
     "level": 1,
     "metadata": {},
     "source": [
      "Importing necessary libraries"
     ]
    },
    {
     "cell_type": "code",
     "collapsed": false,
     "input": [
      "from __future__ import absolute_import\n",
      "from __future__ import division\n",
      "from __future__ import print_function\n",
      "import argparse\n",
      "import sys\n",
      "#from tensorflow.examples.tutorials.mnist import input_data\n",
      "import numpy as np\n",
      "import pandas as pd\n",
      "import tensorflow as tf\n",
      "import matplotlib.image as mpimg\n",
      "import matplotlib.pyplot as plt\n",
      "%matplotlib inline"
     ],
     "language": "python",
     "metadata": {},
     "outputs": [],
     "prompt_number": 47
    },
    {
     "cell_type": "heading",
     "level": 1,
     "metadata": {},
     "source": [
      "Data Analysis"
     ]
    },
    {
     "cell_type": "code",
     "collapsed": false,
     "input": [
      "train = pd.read_csv('train.csv')\n",
      "#test = pd.read_csv('test.csv')"
     ],
     "language": "python",
     "metadata": {},
     "outputs": [],
     "prompt_number": 48
    },
    {
     "cell_type": "code",
     "collapsed": false,
     "input": [
      "#train.head()"
     ],
     "language": "python",
     "metadata": {},
     "outputs": [],
     "prompt_number": 49
    },
    {
     "cell_type": "code",
     "collapsed": false,
     "input": [
      "X_train = train.iloc[:,1:]#train.drop('label',axis=1)\n",
      "X_train.shape"
     ],
     "language": "python",
     "metadata": {},
     "outputs": [
      {
       "metadata": {},
       "output_type": "pyout",
       "prompt_number": 52,
       "text": [
        "(42000, 784)"
       ]
      }
     ],
     "prompt_number": 52
    },
    {
     "cell_type": "code",
     "collapsed": false,
     "input": [
      "y_train = train.iloc[:,:1]#train['label']\n",
      "print(y_train.shape)\n",
      "#print(y_train)"
     ],
     "language": "python",
     "metadata": {},
     "outputs": [
      {
       "output_type": "stream",
       "stream": "stdout",
       "text": [
        "(42000, 1)\n"
       ]
      }
     ],
     "prompt_number": 53
    },
    {
     "cell_type": "code",
     "collapsed": false,
     "input": [
      "def display(x):\n",
      "    plt.imshow(x)\n",
      "    plt.show()\n",
      "    \n",
      "x = X_train.iloc[0].values.reshape((28,28))\n",
      "display(x)"
     ],
     "language": "python",
     "metadata": {},
     "outputs": [
      {
       "metadata": {},
       "output_type": "display_data",
       "png": "[encoded data removed]",
       "text": [
        "<matplotlib.figure.Figure at 0x7f9e577651d0>"
       ]
      }
     ],
     "prompt_number": 54
    },
    {
     "cell_type": "heading",
     "level": 1,
     "metadata": {},
     "source": [
      "A simple model using svm"
     ]
    },
    {
     "cell_type": "code",
     "collapsed": false,
     "input": [
      "from sklearn import svm\n",
      "from sklearn.model_selection import train_test_split"
     ],
     "language": "python",
     "metadata": {},
     "outputs": [],
     "prompt_number": 55
    },
    {
     "cell_type": "code",
     "collapsed": false,
     "input": [
      "x=X_train[:1000]\n",
      "y=y_train[:1000]\n",
      "train_img,test_img,train_label,test_label = train_test_split(x,y,train_size=0.9)"
     ],
     "language": "python",
     "metadata": {},
     "outputs": [],
     "prompt_number": 56
    },
    {
     "cell_type": "code",
     "collapsed": false,
     "input": [
      "train_img[train_img>1]=1\n",
      "test_img[test_img>1]=1\n",
      "img=train_img.iloc[0].values.reshape((28,28))\n",
      "plt.imshow(img,cmap='binary')"
     ],
     "language": "python",
     "metadata": {},
     "outputs": [
      {
       "metadata": {},
       "output_type": "pyout",
       "prompt_number": 57,
       "text": [
        "<matplotlib.image.AxesImage at 0x7f9e2ba8df90>"
       ]
      },
      {
       "metadata": {},
       "output_type": "display_data",
       "png": "[encoded data removed]",
       "text": [
        "<matplotlib.figure.Figure at 0x7f9e16736890>"
       ]
      }
     ],
     "prompt_number": 57
    },
    {
     "cell_type": "code",
     "collapsed": false,
     "input": [
      "plt.hist(train_img.iloc[0])"
     ],
     "language": "python",
     "metadata": {},
     "outputs": [
      {
       "metadata": {},
       "output_type": "pyout",
       "prompt_number": 58,
       "text": [
        "(array([ 577.,    0.,    0.,    0.,    0.,    0.,    0.,    0.,    0.,  207.]),\n",
        " array([ 0. ,  0.1,  0.2,  0.3,  0.4,  0.5,  0.6,  0.7,  0.8,  0.9,  1. ]),\n",
        " <a list of 10 Patch objects>)"
       ]
      },
      {
       "metadata": {},
       "output_type": "display_data",
       "png": "[encoded data removed]",
       "text": [
        "<matplotlib.figure.Figure at 0x7f9e2b8ce9d0>"
       ]
      }
     ],
     "prompt_number": 58
    },
    {
     "cell_type": "code",
     "collapsed": false,
     "input": [
      "clf = svm.SVC()\n",
      "# train using small data\n",
      "# clf.fit(train_img,train_label)\n",
      "# clf.score(test_img,test_label)\n",
      "X_train[X_train>0]=1\n",
      "#y_train[y_train>0]=1\n",
      "# clf.fit(X_train[:1000],y_train[:1000].values.ravel())\n",
      "clf.fit(X_train,y_train.values.ravel())"
     ],
     "language": "python",
     "metadata": {},
     "outputs": [
      {
       "metadata": {},
       "output_type": "pyout",
       "prompt_number": 74,
       "text": [
        "SVC(C=1.0, cache_size=200, class_weight=None, coef0=0.0,\n",
        "  decision_function_shape=None, degree=3, gamma='auto', kernel='rbf',\n",
        "  max_iter=-1, probability=False, random_state=None, shrinking=True,\n",
        "  tol=0.001, verbose=False)"
       ]
      }
     ],
     "prompt_number": 74
    },
    {
     "cell_type": "code",
     "collapsed": false,
     "input": [
      "test = pd.read_csv('test.csv')\n",
      "test[test>0]=1\n",
      "#print(clf.predict(test.iloc[0]))\n",
      "# results = clf.predict(test[:1000])\n",
      "# print('done')\n",
      "# print results[0:10]"
     ],
     "language": "python",
     "metadata": {},
     "outputs": [],
     "prompt_number": 75
    },
    {
     "cell_type": "code",
     "collapsed": false,
     "input": [
      "plt.imshow(test.iloc[0].values.reshape((28,28)),cmap='binary')\n",
      "results=clf.predict(test[:])\n",
      "print(clf.predict(test.iloc[0]))\n",
      "# print(y_train[132])"
     ],
     "language": "python",
     "metadata": {},
     "outputs": [
      {
       "output_type": "stream",
       "stream": "stdout",
       "text": [
        "[2]\n"
       ]
      },
      {
       "output_type": "stream",
       "stream": "stderr",
       "text": [
        "/usr/local/lib/python2.7/dist-packages/sklearn/utils/validation.py:395: DeprecationWarning: Passing 1d arrays as data is deprecated in 0.17 and will raise ValueError in 0.19. Reshape your data either using X.reshape(-1, 1) if your data has a single feature or X.reshape(1, -1) if it contains a single sample.\n",
        "  DeprecationWarning)\n"
       ]
      },
      {
       "metadata": {},
       "output_type": "display_data",
       "png": "[encoded data removed]",
       "text": [
        "<matplotlib.figure.Figure at 0x7f9e4c271910>"
       ]
      }
     ],
     "prompt_number": 76
    },
    {
     "cell_type": "code",
     "collapsed": false,
     "input": [
      "count=0\n",
      "print(results[:10])\n",
      "for i in results:\n",
      "    if i>1:\n",
      "        count+=1\n",
      "print(count)"
     ],
     "language": "python",
     "metadata": {},
     "outputs": [
      {
       "output_type": "stream",
       "stream": "stdout",
       "text": [
        "[2 0 9 9 3 7 0 3 0 3]\n",
        "21970\n"
       ]
      }
     ],
     "prompt_number": 77
    },
    {
     "cell_type": "code",
     "collapsed": false,
     "input": [
      "# df = pd.DataFrame(results)\n",
      "# df.index.name='ImageId'\n",
      "# df.index+=1\n",
      "# df.columns=['Label']\n",
      "# df.to_csv('results.csv', header=True)\n",
      "np.savetxt('results.csv', \n",
      "           np.c_[range(1,len(test)+1),results], \n",
      "           delimiter=',', \n",
      "           header = 'ImageId,Label', \n",
      "           comments = '', \n",
      "           fmt='%d')\n",
      "print('done')"
     ],
     "language": "python",
     "metadata": {},
     "outputs": [
      {
       "output_type": "stream",
       "stream": "stdout",
       "text": [
        "done\n"
       ]
      }
     ],
     "prompt_number": 78
    },
    {
     "cell_type": "code",
     "collapsed": false,
     "input": [
      "output = pd.read_csv('results.csv')\n",
      "print(output)"
     ],
     "language": "python",
     "metadata": {},
     "outputs": [
      {
       "output_type": "stream",
       "stream": "stdout",
       "text": [
        "       ImageId  Label\n",
        "0            1      2\n",
        "1            2      0\n",
        "2            3      9\n",
        "3            4      9\n",
        "4            5      3\n",
        "5            6      7\n",
        "6            7      0\n",
        "7            8      3\n",
        "8            9      0\n",
        "9           10      3\n",
        "10          11      5\n",
        "11          12      7\n",
        "12          13      4\n",
        "13          14      0\n",
        "14          15      4\n",
        "15          16      3\n",
        "16          17      3\n",
        "17          18      1\n",
        "18          19      9\n",
        "19          20      0\n",
        "20          21      9\n",
        "21          22      1\n",
        "22          23      1\n",
        "23          24      5\n",
        "24          25      7\n",
        "25          26      4\n",
        "26          27      2\n",
        "27          28      7\n",
        "28          29      7\n",
        "29          30      7\n",
        "...        ...    ...\n",
        "27970    27971      5\n",
        "27971    27972      0\n",
        "27972    27973      4\n",
        "27973    27974      8\n",
        "27974    27975      0\n",
        "27975    27976      3\n",
        "27976    27977      6\n",
        "27977    27978      0\n",
        "27978    27979      1\n",
        "27979    27980      9\n",
        "27980    27981      3\n",
        "27981    27982      1\n",
        "27982    27983      8\n",
        "27983    27984      0\n",
        "27984    27985      4\n",
        "27985    27986      5\n",
        "27986    27987      2\n",
        "27987    27988      2\n",
        "27988    27989      1\n",
        "27989    27990      6\n",
        "27990    27991      7\n",
        "27991    27992      6\n",
        "27992    27993      1\n",
        "27993    27994      9\n",
        "27994    27995      7\n",
        "27995    27996      9\n",
        "27996    27997      7\n",
        "27997    27998      3\n",
        "27998    27999      9\n",
        "27999    28000      2\n",
        "\n",
        "[28000 rows x 2 columns]\n"
       ]
      }
     ],
     "prompt_number": 79
    }
   ],
   "metadata": {}
  }
 ]
}